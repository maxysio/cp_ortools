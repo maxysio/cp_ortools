{
 "cells": [
  {
   "cell_type": "markdown",
   "metadata": {},
   "source": [
    "# This is a basic program using CP-SAT Solver from Google OR Tools\n",
    "# This is specifically for Constraint Optimization"
   ]
  },
  {
   "cell_type": "code",
   "execution_count": 2,
   "metadata": {},
   "outputs": [],
   "source": [
    "from __future__ import absolute_import\n",
    "from __future__ import division\n",
    "from __future__ import print_function\n",
    "\n",
    "from ortools.sat.python import cp_model"
   ]
  },
  {
   "cell_type": "code",
   "execution_count": 7,
   "metadata": {},
   "outputs": [],
   "source": [
    "def SimpleSatProgram():\n",
    "    \n",
    "    # Create the model\n",
    "    model = cp_model.CpModel()\n",
    "    \n",
    "    # Create the variables\n",
    "    num_vals = 3\n",
    "    x = model.NewIntVar(0, num_vals - 1, 'x')\n",
    "    y = model.NewIntVar(0, num_vals - 1, 'y')\n",
    "    z = model.NewIntVar(0, num_vals - 1, 'z')\n",
    "    \n",
    "    # Create the constraints\n",
    "    model.Add(x!=y)\n",
    "    \n",
    "    # Create a solver to solve the model\n",
    "    solver = cp_model.CpSolver()\n",
    "    status = solver.Solve(model)\n",
    "    \n",
    "    # Check is solution is feasible\n",
    "    if status == cp_model.FEASIBLE:\n",
    "        print('x = %i' % solver.Value(x))\n",
    "        print('y = %i' % solver.Value(y))\n",
    "        print('z = %i' % solver.Value(z))\n",
    "    "
   ]
  },
  {
   "cell_type": "code",
   "execution_count": 8,
   "metadata": {},
   "outputs": [
    {
     "name": "stdout",
     "output_type": "stream",
     "text": [
      "x = 1\n",
      "y = 2\n",
      "z = 0\n"
     ]
    }
   ],
   "source": [
    "SimpleSatProgram()"
   ]
  },
  {
   "cell_type": "code",
   "execution_count": 14,
   "metadata": {},
   "outputs": [],
   "source": [
    "def SolvewithTimeLimitSampleSat():\n",
    "    # Create the model\n",
    "    model = cp_model.CpModel()\n",
    "    \n",
    "    # Create the variables\n",
    "    num_vals = 3\n",
    "    x = model.NewIntVar(0, num_vals-1, 'x')\n",
    "    y = model.NewIntVar(0, num_vals-1, 'y')\n",
    "    z = model.NewIntVar(0, num_vals-1, 'z')\n",
    "    \n",
    "    # Create the constraints\n",
    "    model.Add(x!=y)\n",
    "    model.Add(x+y+z<2)\n",
    "    \n",
    "    # Create a solver\n",
    "    solver = cp_model.CpSolver()\n",
    "    solver.parameters.max_time_in_seconds = 20\n",
    "    status = solver.Solve(model)\n",
    "    \n",
    "    # Check is solution is feasible\n",
    "    if status == cp_model.FEASIBLE:\n",
    "        print('x = %i' % solver.Value(x))\n",
    "        print('y = %i' % solver.Value(y))\n",
    "        print('z = %i' % solver.Value(z))"
   ]
  },
  {
   "cell_type": "code",
   "execution_count": 15,
   "metadata": {},
   "outputs": [
    {
     "name": "stdout",
     "output_type": "stream",
     "text": [
      "x = 0\n",
      "y = 1\n",
      "z = 0\n"
     ]
    }
   ],
   "source": [
    "SolvewithTimeLimitSampleSat()"
   ]
  },
  {
   "cell_type": "code",
   "execution_count": null,
   "metadata": {},
   "outputs": [],
   "source": []
  }
 ],
 "metadata": {
  "kernelspec": {
   "display_name": "Python 3",
   "language": "python",
   "name": "python3"
  },
  "language_info": {
   "codemirror_mode": {
    "name": "ipython",
    "version": 3
   },
   "file_extension": ".py",
   "mimetype": "text/x-python",
   "name": "python",
   "nbconvert_exporter": "python",
   "pygments_lexer": "ipython3",
   "version": "3.7.1"
  }
 },
 "nbformat": 4,
 "nbformat_minor": 2
}
