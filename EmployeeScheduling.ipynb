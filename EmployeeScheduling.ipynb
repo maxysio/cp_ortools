{
  "nbformat": 4,
  "nbformat_minor": 0,
  "metadata": {
    "colab": {
      "name": "EmployeeScheduling.ipynb",
      "provenance": [],
      "authorship_tag": "ABX9TyNQwoQI28JqxvugkcY2Zya7",
      "include_colab_link": true
    },
    "kernelspec": {
      "name": "python3",
      "display_name": "Python 3"
    }
  },
  "cells": [
    {
      "cell_type": "markdown",
      "metadata": {
        "id": "view-in-github",
        "colab_type": "text"
      },
      "source": [
        "<a href=\"https://colab.research.google.com/github/maxysio/cp_ortools/blob/master/EmployeeScheduling.ipynb\" target=\"_parent\"><img src=\"https://colab.research.google.com/assets/colab-badge.svg\" alt=\"Open In Colab\"/></a>"
      ]
    },
    {
      "cell_type": "code",
      "metadata": {
        "id": "o7NeD7VUIH9O",
        "colab_type": "code",
        "colab": {
          "base_uri": "https://localhost:8080/",
          "height": 272
        },
        "outputId": "7f066b2b-9421-4d60-fc7a-aa2a2f243b61"
      },
      "source": [
        "pip install --upgrade --user ortools"
      ],
      "execution_count": 3,
      "outputs": [
        {
          "output_type": "stream",
          "text": [
            "Collecting ortools\n",
            "\u001b[?25l  Downloading https://files.pythonhosted.org/packages/1c/d5/c4382df6b6b978971f11287552f5c0acc54ea7bf8ce70a9c77d8a06531b2/ortools-7.6.7691-cp36-cp36m-manylinux1_x86_64.whl (28.9MB)\n",
            "\u001b[K     |████████████████████████████████| 28.9MB 155kB/s \n",
            "\u001b[?25hRequirement already satisfied, skipping upgrade: six>=1.10 in /usr/local/lib/python3.6/dist-packages (from ortools) (1.12.0)\n",
            "Collecting protobuf>=3.11.2\n",
            "\u001b[?25l  Downloading https://files.pythonhosted.org/packages/28/05/9867ef8eafd12265267bee138fa2c46ebf34a276ea4cbe184cba4c606e8b/protobuf-3.12.2-cp36-cp36m-manylinux1_x86_64.whl (1.3MB)\n",
            "\u001b[K     |████████████████████████████████| 1.3MB 51.1MB/s \n",
            "\u001b[?25hRequirement already satisfied, skipping upgrade: setuptools in /usr/local/lib/python3.6/dist-packages (from protobuf>=3.11.2->ortools) (46.4.0)\n",
            "Installing collected packages: protobuf, ortools\n",
            "Successfully installed ortools-7.6.7691 protobuf-3.12.2\n"
          ],
          "name": "stdout"
        },
        {
          "output_type": "display_data",
          "data": {
            "application/vnd.colab-display-data+json": {
              "pip_warning": {
                "packages": [
                  "google"
                ]
              }
            }
          },
          "metadata": {
            "tags": []
          }
        }
      ]
    },
    {
      "cell_type": "markdown",
      "metadata": {
        "id": "YWKEjI5qOs_Z",
        "colab_type": "text"
      },
      "source": [
        "# Employee Scheduling\n",
        "\n",
        "Plants have employees who work multiple shifts. It is required to schedule sufficient workers for each daily shift. Typically, the schedules will have constraints, such as \"no employee should work two shifts in a row\". Finding a schedule that satisfies all these criterias constraints can be challenging. \n",
        "\n",
        "In this example we create a schedule for a plant\n",
        "- Total number of Employees 10\n",
        "- Schedule Period is for 7 days\n",
        "- Each day is divided into three 8 hour shifts\n",
        "- Maximum number of employees in a shift in the plant cannot exceed 5\n",
        "- An employee cannot have more than 1 shift in a day\n",
        "- An employee should get at least 5 shifts in 7 days"
      ]
    },
    {
      "cell_type": "code",
      "metadata": {
        "id": "QcLb5t19Hz_3",
        "colab_type": "code",
        "colab": {}
      },
      "source": [
        "from __future__ import print_function\n",
        "from ortools.sat.python import cp_model"
      ],
      "execution_count": 0,
      "outputs": []
    },
    {
      "cell_type": "code",
      "metadata": {
        "id": "uc7rhxz8OCvQ",
        "colab_type": "code",
        "colab": {}
      },
      "source": [
        "import pandas as pd\n",
        "import numpy as np"
      ],
      "execution_count": 0,
      "outputs": []
    },
    {
      "cell_type": "code",
      "metadata": {
        "id": "p6LqHPD2KsJY",
        "colab_type": "code",
        "colab": {}
      },
      "source": [
        "num_employees = 20\n",
        "num_shifts = 3\n",
        "num_days = 7\n",
        "employees_per_shift = 5\n",
        "\n",
        "all_employees = range(num_employees)\n",
        "all_shifts = range(num_shifts)\n",
        "all_days = range(num_days)"
      ],
      "execution_count": 0,
      "outputs": []
    },
    {
      "cell_type": "code",
      "metadata": {
        "id": "-ocH8GKOW-EK",
        "colab_type": "code",
        "colab": {}
      },
      "source": [
        "model = cp_model.CpModel()"
      ],
      "execution_count": 0,
      "outputs": []
    },
    {
      "cell_type": "markdown",
      "metadata": {
        "id": "G34O4wpTXVUh",
        "colab_type": "text"
      },
      "source": [
        "#### Decision Variable\n",
        "\n",
        "- shift[e,d,s] = 1 when employee e works on day d in shift s"
      ]
    },
    {
      "cell_type": "code",
      "metadata": {
        "id": "jPqJiFNgXMOj",
        "colab_type": "code",
        "colab": {}
      },
      "source": [
        "# Create the decision Variable\n",
        "shifts = {}\n",
        "for e in all_employees:\n",
        "  for d in all_days:\n",
        "    for s in all_shifts:\n",
        "      shifts[(e, d, s)] = model.NewBoolVar('shift_n%id%is%i' % (e, d, s))"
      ],
      "execution_count": 0,
      "outputs": []
    },
    {
      "cell_type": "code",
      "metadata": {
        "id": "AiG14Oi8X6VW",
        "colab_type": "code",
        "colab": {}
      },
      "source": [
        "# Constraint 1\n",
        "# Maximum number of employees in a shift cannot exceed 8\n",
        "for d in all_days:\n",
        "  for s in all_shifts:\n",
        "    model.Add(sum(shifts[(e, d, s)] for e in all_employees) <= employees_per_shift)"
      ],
      "execution_count": 0,
      "outputs": []
    },
    {
      "cell_type": "code",
      "metadata": {
        "id": "xtn6Bd9VYSBo",
        "colab_type": "code",
        "colab": {}
      },
      "source": [
        "# Constraint 2\n",
        "# An employee cannot have more than 1 shift in a day\n",
        "for e in all_employees:\n",
        "  for d in all_days:\n",
        "    model.Add(sum(shifts[(e, d, s)] for s in all_shifts) <= 1)"
      ],
      "execution_count": 0,
      "outputs": []
    },
    {
      "cell_type": "code",
      "metadata": {
        "id": "7vTRhZjIcDkO",
        "colab_type": "code",
        "colab": {}
      },
      "source": [
        "min_shifts_per_employee = int(np.floor(((num_shifts * num_days) / num_employees) * employees_per_shift))"
      ],
      "execution_count": 0,
      "outputs": []
    },
    {
      "cell_type": "code",
      "metadata": {
        "id": "ZL9rNoZhgEW7",
        "colab_type": "code",
        "colab": {}
      },
      "source": [
        "min_shifts_per_employee = (num_shifts * num_days) // num_employees"
      ],
      "execution_count": 0,
      "outputs": []
    },
    {
      "cell_type": "code",
      "metadata": {
        "id": "W_bFBrdLgOa9",
        "colab_type": "code",
        "colab": {
          "base_uri": "https://localhost:8080/",
          "height": 34
        },
        "outputId": "929ad9f6-2413-4116-f99d-7765cd1c3dee"
      },
      "source": [
        "min_shifts_per_employee"
      ],
      "execution_count": 105,
      "outputs": [
        {
          "output_type": "execute_result",
          "data": {
            "text/plain": [
              "5"
            ]
          },
          "metadata": {
            "tags": []
          },
          "execution_count": 105
        }
      ]
    },
    {
      "cell_type": "code",
      "metadata": {
        "id": "SONAtlWKgvQk",
        "colab_type": "code",
        "colab": {}
      },
      "source": [
        "max_shifts_per_employee = min_shifts_per_employee + 1"
      ],
      "execution_count": 0,
      "outputs": []
    },
    {
      "cell_type": "code",
      "metadata": {
        "id": "83oa3-Y-iJeQ",
        "colab_type": "code",
        "colab": {}
      },
      "source": [
        "for e in all_employees:\n",
        "  num_shifts_worked = sum(\n",
        "      shifts[(e, d, s)] for d in all_days for s in all_shifts)\n",
        "  \n",
        "  model.Add(min_shifts_per_employee <= num_shifts_worked)\n",
        "  model.Add(num_shifts_worked <= max_shifts_per_employee)"
      ],
      "execution_count": 0,
      "outputs": []
    },
    {
      "cell_type": "code",
      "metadata": {
        "id": "0GsCyg5mkukA",
        "colab_type": "code",
        "colab": {}
      },
      "source": [
        "class EmployeePartialSolutionPrinter(cp_model.CpSolverSolutionCallback):\n",
        "    \"\"\"Print intermediate solutions.\"\"\"\n",
        "\n",
        "    def __init__(self, shifts, num_employees, num_days, num_shifts, sols):\n",
        "        cp_model.CpSolverSolutionCallback.__init__(self)\n",
        "        self._shifts = shifts\n",
        "        self._num_employees = num_employees\n",
        "        self._num_days = num_days\n",
        "        self._num_shifts = num_shifts\n",
        "        self._solutions = set(sols)\n",
        "        self._solution_count = 0\n",
        "\n",
        "    def on_solution_callback(self):\n",
        "        if self._solution_count in self._solutions:\n",
        "            print('Solution %i' % self._solution_count)\n",
        "            for d in range(self._num_days):\n",
        "                print('Day %i' % d)\n",
        "                for n in range(self._num_employees):\n",
        "                    is_working = False\n",
        "                    for s in range(self._num_shifts):\n",
        "                        if self.Value(self._shifts[(n, d, s)]):\n",
        "                            is_working = True\n",
        "                            print('  Employee %i works shift %i' % (n, s))\n",
        "                    if not is_working:\n",
        "                        print('  Employee {} does not work'.format(n))\n",
        "            print()\n",
        "\n",
        "            shift_cols = []\n",
        "            for d in range(self._num_days):\n",
        "              for s in range(self._num_shifts):\n",
        "                shift_cols.append('Day' + str(d+1) + '-Shift' + str(s+1))\n",
        "            \n",
        "            emp_rows = []\n",
        "            for n in range(self._num_employees):\n",
        "              emp_rows.append('Emp' + str(n+1))\n",
        "\n",
        "            df_schedule = pd.DataFrame(columns=shift_cols, index=emp_rows, data=)\n",
        "\n",
        "        self._solution_count += 1\n",
        "\n",
        "    def solution_count(self):\n",
        "        return self._solution_count"
      ],
      "execution_count": 0,
      "outputs": []
    },
    {
      "cell_type": "code",
      "metadata": {
        "id": "BJ8-wBaTndyN",
        "colab_type": "code",
        "colab": {
          "base_uri": "https://localhost:8080/",
          "height": 1000
        },
        "outputId": "b410fdc5-ca5e-4466-e279-1b7d3c22421f"
      },
      "source": [
        "# Creates the solver and solve.\n",
        "solver = cp_model.CpSolver()\n",
        "solver.parameters.linearization_level = 0\n",
        "# Display the first five solutions.\n",
        "a_few_solutions = range(2)\n",
        "solution_printer = EmployeePartialSolutionPrinter(shifts, num_employees, num_days, num_shifts, a_few_solutions)\n",
        "solver.SearchForAllSolutions(model, solution_printer)\n",
        "\n",
        "# Statistics.\n",
        "print()\n",
        "print('Statistics')\n",
        "print('  - conflicts       : %i' % solver.NumConflicts())\n",
        "print('  - branches        : %i' % solver.NumBranches())\n",
        "print('  - wall time       : %f s' % solver.WallTime())\n",
        "print('  - solutions found : %i' % solution_printer.solution_count())"
      ],
      "execution_count": 111,
      "outputs": [
        {
          "output_type": "stream",
          "text": [
            "Solution 0\n",
            "Day 0\n",
            "  Employee 0 does not work\n",
            "  Employee 1 does not work\n",
            "  Employee 2 does not work\n",
            "  Employee 3 works shift 1\n",
            "  Employee 4 works shift 1\n",
            "  Employee 5 works shift 1\n",
            "  Employee 6 works shift 2\n",
            "  Employee 7 works shift 0\n",
            "  Employee 8 works shift 1\n",
            "  Employee 9 works shift 1\n",
            "  Employee 10 works shift 0\n",
            "  Employee 11 works shift 0\n",
            "  Employee 12 works shift 0\n",
            "  Employee 13 works shift 0\n",
            "  Employee 14 does not work\n",
            "  Employee 15 works shift 2\n",
            "  Employee 16 works shift 2\n",
            "  Employee 17 works shift 2\n",
            "  Employee 18 does not work\n",
            "  Employee 19 works shift 2\n",
            "Day 1\n",
            "  Employee 0 does not work\n",
            "  Employee 1 works shift 2\n",
            "  Employee 2 does not work\n",
            "  Employee 3 works shift 0\n",
            "  Employee 4 does not work\n",
            "  Employee 5 works shift 2\n",
            "  Employee 6 does not work\n",
            "  Employee 7 works shift 2\n",
            "  Employee 8 works shift 0\n",
            "  Employee 9 works shift 0\n",
            "  Employee 10 works shift 2\n",
            "  Employee 11 works shift 2\n",
            "  Employee 12 works shift 0\n",
            "  Employee 13 does not work\n",
            "  Employee 14 works shift 1\n",
            "  Employee 15 works shift 1\n",
            "  Employee 16 works shift 1\n",
            "  Employee 17 works shift 0\n",
            "  Employee 18 works shift 1\n",
            "  Employee 19 works shift 1\n",
            "Day 2\n",
            "  Employee 0 works shift 0\n",
            "  Employee 1 works shift 2\n",
            "  Employee 2 works shift 2\n",
            "  Employee 3 works shift 2\n",
            "  Employee 4 does not work\n",
            "  Employee 5 does not work\n",
            "  Employee 6 does not work\n",
            "  Employee 7 works shift 1\n",
            "  Employee 8 works shift 0\n",
            "  Employee 9 does not work\n",
            "  Employee 10 works shift 1\n",
            "  Employee 11 works shift 1\n",
            "  Employee 12 works shift 1\n",
            "  Employee 13 works shift 2\n",
            "  Employee 14 works shift 0\n",
            "  Employee 15 works shift 0\n",
            "  Employee 16 works shift 0\n",
            "  Employee 17 works shift 2\n",
            "  Employee 18 works shift 1\n",
            "  Employee 19 does not work\n",
            "Day 3\n",
            "  Employee 0 works shift 1\n",
            "  Employee 1 works shift 0\n",
            "  Employee 2 works shift 1\n",
            "  Employee 3 works shift 0\n",
            "  Employee 4 works shift 0\n",
            "  Employee 5 does not work\n",
            "  Employee 6 works shift 2\n",
            "  Employee 7 does not work\n",
            "  Employee 8 does not work\n",
            "  Employee 9 works shift 0\n",
            "  Employee 10 works shift 1\n",
            "  Employee 11 works shift 1\n",
            "  Employee 12 works shift 1\n",
            "  Employee 13 works shift 0\n",
            "  Employee 14 works shift 2\n",
            "  Employee 15 works shift 2\n",
            "  Employee 16 works shift 2\n",
            "  Employee 17 does not work\n",
            "  Employee 18 works shift 2\n",
            "  Employee 19 does not work\n",
            "Day 4\n",
            "  Employee 0 works shift 1\n",
            "  Employee 1 works shift 1\n",
            "  Employee 2 works shift 1\n",
            "  Employee 3 does not work\n",
            "  Employee 4 works shift 2\n",
            "  Employee 5 works shift 2\n",
            "  Employee 6 works shift 1\n",
            "  Employee 7 works shift 0\n",
            "  Employee 8 works shift 2\n",
            "  Employee 9 does not work\n",
            "  Employee 10 works shift 0\n",
            "  Employee 11 works shift 0\n",
            "  Employee 12 works shift 0\n",
            "  Employee 13 works shift 0\n",
            "  Employee 14 does not work\n",
            "  Employee 15 does not work\n",
            "  Employee 16 does not work\n",
            "  Employee 17 does not work\n",
            "  Employee 18 works shift 2\n",
            "  Employee 19 works shift 1\n",
            "Day 5\n",
            "  Employee 0 works shift 1\n",
            "  Employee 1 works shift 0\n",
            "  Employee 2 works shift 1\n",
            "  Employee 3 works shift 2\n",
            "  Employee 4 works shift 2\n",
            "  Employee 5 works shift 0\n",
            "  Employee 6 works shift 0\n",
            "  Employee 7 does not work\n",
            "  Employee 8 works shift 0\n",
            "  Employee 9 works shift 1\n",
            "  Employee 10 does not work\n",
            "  Employee 11 does not work\n",
            "  Employee 12 does not work\n",
            "  Employee 13 does not work\n",
            "  Employee 14 works shift 2\n",
            "  Employee 15 does not work\n",
            "  Employee 16 does not work\n",
            "  Employee 17 works shift 1\n",
            "  Employee 18 works shift 0\n",
            "  Employee 19 works shift 1\n",
            "Day 6\n",
            "  Employee 0 works shift 0\n",
            "  Employee 1 does not work\n",
            "  Employee 2 works shift 1\n",
            "  Employee 3 does not work\n",
            "  Employee 4 works shift 0\n",
            "  Employee 5 works shift 1\n",
            "  Employee 6 works shift 0\n",
            "  Employee 7 works shift 1\n",
            "  Employee 8 does not work\n",
            "  Employee 9 works shift 1\n",
            "  Employee 10 does not work\n",
            "  Employee 11 does not work\n",
            "  Employee 12 does not work\n",
            "  Employee 13 works shift 2\n",
            "  Employee 14 works shift 2\n",
            "  Employee 15 works shift 2\n",
            "  Employee 16 works shift 2\n",
            "  Employee 17 works shift 2\n",
            "  Employee 18 does not work\n",
            "  Employee 19 works shift 1\n",
            "\n",
            "Solution 1\n",
            "Day 0\n",
            "  Employee 0 does not work\n",
            "  Employee 1 does not work\n",
            "  Employee 2 does not work\n",
            "  Employee 3 works shift 1\n",
            "  Employee 4 works shift 1\n",
            "  Employee 5 works shift 1\n",
            "  Employee 6 works shift 2\n",
            "  Employee 7 works shift 0\n",
            "  Employee 8 works shift 1\n",
            "  Employee 9 works shift 1\n",
            "  Employee 10 works shift 0\n",
            "  Employee 11 works shift 0\n",
            "  Employee 12 works shift 0\n",
            "  Employee 13 works shift 0\n",
            "  Employee 14 does not work\n",
            "  Employee 15 works shift 2\n",
            "  Employee 16 works shift 2\n",
            "  Employee 17 works shift 2\n",
            "  Employee 18 does not work\n",
            "  Employee 19 works shift 2\n",
            "Day 1\n",
            "  Employee 0 does not work\n",
            "  Employee 1 works shift 2\n",
            "  Employee 2 does not work\n",
            "  Employee 3 works shift 0\n",
            "  Employee 4 does not work\n",
            "  Employee 5 works shift 2\n",
            "  Employee 6 does not work\n",
            "  Employee 7 works shift 2\n",
            "  Employee 8 works shift 0\n",
            "  Employee 9 works shift 0\n",
            "  Employee 10 works shift 2\n",
            "  Employee 11 works shift 2\n",
            "  Employee 12 works shift 0\n",
            "  Employee 13 does not work\n",
            "  Employee 14 works shift 1\n",
            "  Employee 15 works shift 1\n",
            "  Employee 16 works shift 1\n",
            "  Employee 17 works shift 0\n",
            "  Employee 18 works shift 1\n",
            "  Employee 19 works shift 1\n",
            "Day 2\n",
            "  Employee 0 works shift 0\n",
            "  Employee 1 works shift 2\n",
            "  Employee 2 works shift 2\n",
            "  Employee 3 works shift 2\n",
            "  Employee 4 does not work\n",
            "  Employee 5 does not work\n",
            "  Employee 6 does not work\n",
            "  Employee 7 works shift 1\n",
            "  Employee 8 works shift 0\n",
            "  Employee 9 does not work\n",
            "  Employee 10 works shift 1\n",
            "  Employee 11 works shift 1\n",
            "  Employee 12 works shift 1\n",
            "  Employee 13 works shift 2\n",
            "  Employee 14 works shift 0\n",
            "  Employee 15 works shift 0\n",
            "  Employee 16 works shift 0\n",
            "  Employee 17 works shift 2\n",
            "  Employee 18 works shift 1\n",
            "  Employee 19 does not work\n",
            "Day 3\n",
            "  Employee 0 works shift 1\n",
            "  Employee 1 works shift 0\n",
            "  Employee 2 works shift 1\n",
            "  Employee 3 works shift 0\n",
            "  Employee 4 works shift 0\n",
            "  Employee 5 does not work\n",
            "  Employee 6 works shift 2\n",
            "  Employee 7 does not work\n",
            "  Employee 8 does not work\n",
            "  Employee 9 works shift 0\n",
            "  Employee 10 works shift 1\n",
            "  Employee 11 works shift 1\n",
            "  Employee 12 works shift 1\n",
            "  Employee 13 works shift 0\n",
            "  Employee 14 works shift 2\n",
            "  Employee 15 works shift 2\n",
            "  Employee 16 works shift 2\n",
            "  Employee 17 does not work\n",
            "  Employee 18 works shift 2\n",
            "  Employee 19 does not work\n",
            "Day 4\n",
            "  Employee 0 works shift 1\n",
            "  Employee 1 works shift 1\n",
            "  Employee 2 works shift 1\n",
            "  Employee 3 does not work\n",
            "  Employee 4 works shift 2\n",
            "  Employee 5 works shift 2\n",
            "  Employee 6 works shift 1\n",
            "  Employee 7 works shift 0\n",
            "  Employee 8 works shift 2\n",
            "  Employee 9 does not work\n",
            "  Employee 10 works shift 0\n",
            "  Employee 11 works shift 0\n",
            "  Employee 12 works shift 0\n",
            "  Employee 13 works shift 0\n",
            "  Employee 14 does not work\n",
            "  Employee 15 does not work\n",
            "  Employee 16 does not work\n",
            "  Employee 17 does not work\n",
            "  Employee 18 works shift 2\n",
            "  Employee 19 works shift 1\n",
            "Day 5\n",
            "  Employee 0 works shift 1\n",
            "  Employee 1 works shift 0\n",
            "  Employee 2 works shift 1\n",
            "  Employee 3 works shift 2\n",
            "  Employee 4 works shift 2\n",
            "  Employee 5 works shift 0\n",
            "  Employee 6 works shift 0\n",
            "  Employee 7 does not work\n",
            "  Employee 8 works shift 0\n",
            "  Employee 9 works shift 1\n",
            "  Employee 10 does not work\n",
            "  Employee 11 does not work\n",
            "  Employee 12 does not work\n",
            "  Employee 13 does not work\n",
            "  Employee 14 works shift 2\n",
            "  Employee 15 does not work\n",
            "  Employee 16 does not work\n",
            "  Employee 17 works shift 1\n",
            "  Employee 18 works shift 0\n",
            "  Employee 19 works shift 1\n",
            "Day 6\n",
            "  Employee 0 works shift 0\n",
            "  Employee 1 does not work\n",
            "  Employee 2 works shift 1\n",
            "  Employee 3 does not work\n",
            "  Employee 4 works shift 0\n",
            "  Employee 5 works shift 1\n",
            "  Employee 6 works shift 0\n",
            "  Employee 7 works shift 1\n",
            "  Employee 8 does not work\n",
            "  Employee 9 works shift 1\n",
            "  Employee 10 does not work\n",
            "  Employee 11 does not work\n",
            "  Employee 12 does not work\n",
            "  Employee 13 works shift 2\n",
            "  Employee 14 works shift 2\n",
            "  Employee 15 works shift 2\n",
            "  Employee 16 works shift 2\n",
            "  Employee 17 works shift 2\n",
            "  Employee 18 works shift 0\n",
            "  Employee 19 works shift 1\n",
            "\n",
            "\n",
            "Statistics\n",
            "  - conflicts       : 468\n",
            "  - branches        : 113539\n",
            "  - wall time       : 0.313195 s\n",
            "  - solutions found : 546\n"
          ],
          "name": "stdout"
        }
      ]
    },
    {
      "cell_type": "code",
      "metadata": {
        "id": "d4VJ2a4loVvh",
        "colab_type": "code",
        "colab": {}
      },
      "source": [
        ""
      ],
      "execution_count": 0,
      "outputs": []
    }
  ]
}