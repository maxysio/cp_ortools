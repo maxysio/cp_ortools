{
 "cells": [
  {
   "cell_type": "markdown",
   "metadata": {},
   "source": [
    "## This is a Constraint Optimization Program using Google OR-Tools CP-SAT Solver. Instead of finding one solution, this one finds all Feasible solutions"
   ]
  },
  {
   "cell_type": "code",
   "execution_count": 15,
   "metadata": {},
   "outputs": [],
   "source": [
    "from __future__ import absolute_import\n",
    "from __future__ import division\n",
    "from __future__ import print_function\n",
    "import time\n",
    "\n",
    "from ortools.sat.python import cp_model"
   ]
  },
  {
   "cell_type": "code",
   "execution_count": 19,
   "metadata": {},
   "outputs": [],
   "source": [
    "class VarArraySolutionPrinter(cp_model.CpSolverSolutionCallback):\n",
    "    def __init__(self, variables):\n",
    "        cp_model.CpSolverSolutionCallback.__init__(self)\n",
    "        self.__variables = variables\n",
    "        self.__solution_count = 0\n",
    "        self.__start_time = time.time()\n",
    "    \n",
    "    def on_solution_callback(self):\n",
    "        current_time = time.time()\n",
    "        print('Solution %i, time = %0.4f s' %\n",
    "              (self.__solution_count, current_time - self.__start_time))\n",
    "        self.__solution_count += 1\n",
    "        for v in self.__variables:\n",
    "            print('%s=%i' % (v, self.Value(v)), end=' ')\n",
    "        print()\n",
    "        \n",
    "    def solution_count(self):\n",
    "        return self.__solution_count"
   ]
  },
  {
   "cell_type": "code",
   "execution_count": 20,
   "metadata": {},
   "outputs": [],
   "source": [
    "def SearchForAllSolutionsSampleSat():\n",
    "    # Create the model\n",
    "    model = cp_model.CpModel()\n",
    "    \n",
    "    # Create the variables\n",
    "    num_vals = 3\n",
    "    x = model.NewIntVar(0, num_vals-1, 'x')\n",
    "    y = model.NewIntVar(0, num_vals-1, 'y')\n",
    "    z = model.NewIntVar(0, num_vals-1, 'z')\n",
    "    \n",
    "    # Assign the constraints\n",
    "    model.Add(x!=y)\n",
    "    \n",
    "    # Create and run the solver\n",
    "    solver = cp_model.CpSolver()\n",
    "    solution_printer = VarArraySolutionPrinter([x,y,z])\n",
    "    status = solver.SearchForAllSolutions(model, solution_printer)\n",
    "    \n",
    "    # Print Status\n",
    "    print('Status = %s' % solver.StatusName(status))\n",
    "    print('Number of solutions found: %i' % solution_printer.solution_count())"
   ]
  },
  {
   "cell_type": "code",
   "execution_count": 21,
   "metadata": {},
   "outputs": [
    {
     "name": "stdout",
     "output_type": "stream",
     "text": [
      "Solution 0, time = 0.0009 s\n",
      "x=1 y=2 z=0 \n",
      "Solution 1, time = 0.0013 s\n",
      "x=1 y=0 z=0 \n",
      "Solution 2, time = 0.0015 s\n",
      "x=2 y=0 z=0 \n",
      "Solution 3, time = 0.0016 s\n",
      "x=2 y=1 z=0 \n",
      "Solution 4, time = 0.0032 s\n",
      "x=2 y=1 z=1 \n",
      "Solution 5, time = 0.0043 s\n",
      "x=2 y=0 z=1 \n",
      "Solution 6, time = 0.0059 s\n",
      "x=1 y=0 z=1 \n",
      "Solution 7, time = 0.0065 s\n",
      "x=1 y=2 z=1 \n",
      "Solution 8, time = 0.0071 s\n",
      "x=1 y=2 z=2 \n",
      "Solution 9, time = 0.0074 s\n",
      "x=1 y=0 z=2 \n",
      "Solution 10, time = 0.0078 s\n",
      "x=2 y=0 z=2 \n",
      "Solution 11, time = 0.0080 s\n",
      "x=2 y=1 z=2 \n",
      "Solution 12, time = 0.0087 s\n",
      "x=0 y=1 z=2 \n",
      "Solution 13, time = 0.0091 s\n",
      "x=0 y=1 z=1 \n",
      "Solution 14, time = 0.0096 s\n",
      "x=0 y=1 z=0 \n",
      "Solution 15, time = 0.0099 s\n",
      "x=0 y=2 z=0 \n",
      "Solution 16, time = 0.0105 s\n",
      "x=0 y=2 z=1 \n",
      "Solution 17, time = 0.0109 s\n",
      "x=0 y=2 z=2 \n",
      "Status = OPTIMAL\n",
      "Number of solutions found: 18\n"
     ]
    }
   ],
   "source": [
    "SearchForAllSolutionsSampleSat()"
   ]
  }
 ],
 "metadata": {
  "kernelspec": {
   "display_name": "Python 3",
   "language": "python",
   "name": "python3"
  },
  "language_info": {
   "codemirror_mode": {
    "name": "ipython",
    "version": 3
   },
   "file_extension": ".py",
   "mimetype": "text/x-python",
   "name": "python",
   "nbconvert_exporter": "python",
   "pygments_lexer": "ipython3",
   "version": "3.7.1"
  }
 },
 "nbformat": 4,
 "nbformat_minor": 2
}
